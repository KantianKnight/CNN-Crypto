{
 "cells": [
  {
   "cell_type": "code",
   "execution_count": 1,
   "metadata": {},
   "outputs": [],
   "source": [
    "# Import all necessary libraries\n",
    "import numpy as np\n",
    "import pandas as pd\n",
    "import matplotlib.pyplot as plt\n",
    "import matplotlib.dates as mdates\n",
    "import mplfinance as mpf\n",
    "import plotly.graph_objects as go\n",
    "import pandas as pd\n",
    "import cv2\n",
    "import matplotlib.image as mpimg\n",
    "import os\n",
    "from PIL import Image"
   ]
  },
  {
   "cell_type": "code",
   "execution_count": 2,
   "metadata": {},
   "outputs": [],
   "source": [
    "# Run locally\n",
    "folder_link = \"..\""
   ]
  },
  {
   "cell_type": "code",
   "execution_count": 20,
   "metadata": {},
   "outputs": [
    {
     "name": "stdout",
     "output_type": "stream",
     "text": [
      "(280437, 54, 72)\n",
      "(70297, 54, 72)\n"
     ]
    }
   ],
   "source": [
    "train_data = []\n",
    "train_output_arr = []\n",
    "for coin in [\"ada\", \"btc\", \"doge\", \"dot\", \"eth\", \"luna\", \"matic\", \"shib\", \"sol\", \"xrp\"]:\n",
    "    train_data.append(np.memmap(f\"{folder_link}/image_data/{coin}usdt/training_data.dat\", dtype = np.uint8, mode = 'r').reshape((-1, 54, 72)))\n",
    "    train_data.append(np.memmap(f\"{folder_link}/image_data/{coin}usdt/validation_data.dat\", dtype = np.uint8, mode = 'r').reshape((-1, 54, 72)))\n",
    "    train_output_arr.append(pd.read_csv(f\"{folder_link}/image_data/{coin}usdt/training_output.csv\"))\n",
    "    train_output_arr.append(pd.read_csv(f\"{folder_link}/image_data/{coin}usdt/validation_output.csv\"))\n",
    "\n",
    "train_data = np.concatenate(train_data)\n",
    "print(train_data.shape)\n",
    "\n",
    "test_data = []\n",
    "test_output_arr = []\n",
    "for coin in [\"ada\", \"btc\", \"doge\", \"dot\", \"eth\", \"luna\", \"matic\", \"shib\", \"sol\", \"xrp\"] + [\"bonk\", \"floki\", \"pepe\", \"wif\"]:\n",
    "    test_data.append(np.memmap(f\"{folder_link}/image_data/{coin}usdt/testing_data.dat\", dtype = np.uint8, mode = 'r').reshape((-1, 54, 72)))\n",
    "    test_output_arr.append(pd.read_csv(f\"{folder_link}/image_data/{coin}usdt/testing_output.csv\"))\n",
    "\n",
    "test_data = np.concatenate(test_data)\n",
    "print(test_data.shape)"
   ]
  },
  {
   "cell_type": "code",
   "execution_count": 21,
   "metadata": {},
   "outputs": [],
   "source": [
    "def normalize(df):\n",
    "    df[\"Max24\"] = df[\"High\"].shift(1).rolling(window = 24).max()\n",
    "    df[\"Max24\"] = df[\"Max24\"].fillna(df.loc[24, \"Max24\"])\n",
    "    df[\"Min24\"] = df[\"Low\"].shift(1).rolling(window = 24).min()\n",
    "    df[\"Min24\"] = df[\"Min24\"].fillna(df.loc[24, \"Min24\"])\n",
    "    df[\"Scale\"] = np.log(df[\"Max24\"]) - np.log(df[\"Min24\"])\n",
    "    df[\"NormalizedLR\"] = df[\"LogReturns\"] / df[\"Scale\"]\n",
    "    df = df.drop(columns=[\"Volume\", \"Close time\", \"Quote asset volume\", 'Number of trades', \"Taker buy base asset volume\", \"Taker buy quote asset volume\",\n",
    "                          \"High\", \"Low\", \"Max24\", \"Min24\", \"Scale\"], axis = 1)\n",
    "    return df\n",
    "\n",
    "for i in range(len(train_output_arr)):\n",
    "    train_output_arr[i] = normalize(train_output_arr[i])\n",
    "for i in range(len(test_output_arr)):\n",
    "    test_output_arr[i] = normalize(test_output_arr[i])\n",
    "\n",
    "train_output = pd.concat(train_output_arr)\n",
    "test_output = pd.concat(test_output_arr)"
   ]
  },
  {
   "cell_type": "code",
   "execution_count": 22,
   "metadata": {},
   "outputs": [
    {
     "data": {
      "text/html": [
       "<div>\n",
       "<style scoped>\n",
       "    .dataframe tbody tr th:only-of-type {\n",
       "        vertical-align: middle;\n",
       "    }\n",
       "\n",
       "    .dataframe tbody tr th {\n",
       "        vertical-align: top;\n",
       "    }\n",
       "\n",
       "    .dataframe thead th {\n",
       "        text-align: right;\n",
       "    }\n",
       "</style>\n",
       "<table border=\"1\" class=\"dataframe\">\n",
       "  <thead>\n",
       "    <tr style=\"text-align: right;\">\n",
       "      <th></th>\n",
       "      <th>Open time</th>\n",
       "      <th>LogReturns</th>\n",
       "      <th>NormalizedLR</th>\n",
       "    </tr>\n",
       "  </thead>\n",
       "  <tbody>\n",
       "    <tr>\n",
       "      <th>0</th>\n",
       "      <td>1609545600000</td>\n",
       "      <td>-0.019493</td>\n",
       "      <td>-0.206317</td>\n",
       "    </tr>\n",
       "    <tr>\n",
       "      <th>1</th>\n",
       "      <td>1609549200000</td>\n",
       "      <td>0.010832</td>\n",
       "      <td>0.114642</td>\n",
       "    </tr>\n",
       "    <tr>\n",
       "      <th>2</th>\n",
       "      <td>1609552800000</td>\n",
       "      <td>0.004025</td>\n",
       "      <td>0.042597</td>\n",
       "    </tr>\n",
       "    <tr>\n",
       "      <th>3</th>\n",
       "      <td>1609556400000</td>\n",
       "      <td>0.004180</td>\n",
       "      <td>0.044241</td>\n",
       "    </tr>\n",
       "    <tr>\n",
       "      <th>4</th>\n",
       "      <td>1609560000000</td>\n",
       "      <td>-0.004065</td>\n",
       "      <td>-0.043026</td>\n",
       "    </tr>\n",
       "    <tr>\n",
       "      <th>...</th>\n",
       "      <td>...</td>\n",
       "      <td>...</td>\n",
       "      <td>...</td>\n",
       "    </tr>\n",
       "    <tr>\n",
       "      <th>2154</th>\n",
       "      <td>1711908000000</td>\n",
       "      <td>0.002394</td>\n",
       "      <td>0.105351</td>\n",
       "    </tr>\n",
       "    <tr>\n",
       "      <th>2155</th>\n",
       "      <td>1711911600000</td>\n",
       "      <td>0.002229</td>\n",
       "      <td>0.113083</td>\n",
       "    </tr>\n",
       "    <tr>\n",
       "      <th>2156</th>\n",
       "      <td>1711915200000</td>\n",
       "      <td>-0.002070</td>\n",
       "      <td>-0.104998</td>\n",
       "    </tr>\n",
       "    <tr>\n",
       "      <th>2157</th>\n",
       "      <td>1711918800000</td>\n",
       "      <td>-0.000638</td>\n",
       "      <td>-0.032351</td>\n",
       "    </tr>\n",
       "    <tr>\n",
       "      <th>2158</th>\n",
       "      <td>1711922400000</td>\n",
       "      <td>0.002389</td>\n",
       "      <td>0.121209</td>\n",
       "    </tr>\n",
       "  </tbody>\n",
       "</table>\n",
       "<p>280437 rows × 3 columns</p>\n",
       "</div>"
      ],
      "text/plain": [
       "          Open time  LogReturns  NormalizedLR\n",
       "0     1609545600000   -0.019493     -0.206317\n",
       "1     1609549200000    0.010832      0.114642\n",
       "2     1609552800000    0.004025      0.042597\n",
       "3     1609556400000    0.004180      0.044241\n",
       "4     1609560000000   -0.004065     -0.043026\n",
       "...             ...         ...           ...\n",
       "2154  1711908000000    0.002394      0.105351\n",
       "2155  1711911600000    0.002229      0.113083\n",
       "2156  1711915200000   -0.002070     -0.104998\n",
       "2157  1711918800000   -0.000638     -0.032351\n",
       "2158  1711922400000    0.002389      0.121209\n",
       "\n",
       "[280437 rows x 3 columns]"
      ]
     },
     "execution_count": 22,
     "metadata": {},
     "output_type": "execute_result"
    }
   ],
   "source": [
    "train_output"
   ]
  },
  {
   "cell_type": "code",
   "execution_count": null,
   "metadata": {},
   "outputs": [],
   "source": [
    "# Save train_data\n",
    "np.savez_compressed(\"train_data\", train_data, allow_pickle = False)\n",
    "train_output.to_csv(\"train_output.csv\", index = False)\n",
    "\n",
    "# Save test_data\n",
    "np.savez_compressed(\"test_data\", test_data, allow_pickle = False)\n",
    "test_output.to_csv(\"test_output.csv\", index = False)"
   ]
  }
 ],
 "metadata": {
  "kernelspec": {
   "display_name": "base",
   "language": "python",
   "name": "python3"
  },
  "language_info": {
   "codemirror_mode": {
    "name": "ipython",
    "version": 3
   },
   "file_extension": ".py",
   "mimetype": "text/x-python",
   "name": "python",
   "nbconvert_exporter": "python",
   "pygments_lexer": "ipython3",
   "version": "3.10.8"
  },
  "orig_nbformat": 4
 },
 "nbformat": 4,
 "nbformat_minor": 2
}
