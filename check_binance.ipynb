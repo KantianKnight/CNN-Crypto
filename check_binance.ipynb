{
 "cells": [
  {
   "cell_type": "code",
   "execution_count": 1,
   "metadata": {},
   "outputs": [],
   "source": [
    "import pandas as pd\n",
    "import numpy as np"
   ]
  },
  {
   "cell_type": "code",
   "execution_count": 45,
   "metadata": {},
   "outputs": [
    {
     "name": "stdout",
     "output_type": "stream",
     "text": [
      "[988, 1537, 2616, 2737, 5371, 6500, 19488]\n"
     ]
    }
   ],
   "source": [
    "bnb = pd.read_csv('data/bnbusdt.csv')\n",
    "bnb[\"Open time diff\"] = bnb[\"Open time\"].diff()\n",
    "indexes = list(bnb[bnb[\"Open time diff\"] != 3600000].index)\n",
    "indexes.remove(0)\n",
    "print(indexes)"
   ]
  },
  {
   "cell_type": "code",
   "execution_count": null,
   "metadata": {},
   "outputs": [],
   "source": [
    "if len(indexes) > 7:\n",
    "    new_rows = []\n",
    "    for i in range(1, 13):\n",
    "        new_row = bnb.loc[33333].copy()\n",
    "        new_row[\"Open time\"] = bnb.loc[33333, \"Open time\"] + 3600000.0 * i\n",
    "        new_rows.append(new_row)\n",
    "    bnb = pd.concat([bnb.iloc[:33334], pd.DataFrame(new_rows), bnb.iloc[33334:]]).reset_index(drop=True)\n",
    "bnb.drop(columns=[\"Open time diff\"], inplace=True)\n",
    "bnb.to_csv('data/bnbusdt.csv', index=False)"
   ]
  },
  {
   "cell_type": "code",
   "execution_count": 65,
   "metadata": {},
   "outputs": [
    {
     "name": "stdout",
     "output_type": "stream",
     "text": [
      "ltcusdt \t [988, 1537, 2616, 2737, 5371, 6500, 19488] 33586\n",
      "bnbusdt \t [988, 1537, 2616, 2737, 5371, 6500, 19488] 33586\n",
      "trxusdt \t [988, 1537, 2616, 2737, 5371, 6500, 19488] 33586\n",
      "xlmusdt \t [988, 1537, 2616, 2737, 5371, 6500, 19488] 33586\n",
      "uniusdt \t [988, 1537, 2616, 2737, 5371, 6500, 19488] 33586\n",
      "btcusdt \t [988, 1537, 2616, 2737, 5371, 6500, 19488] 33586\n",
      "dogeusdt \t [988, 1537, 2616, 2737, 5371, 6500, 19488] 33586\n",
      "dotusdt \t [988, 1537, 2616, 2737, 5371, 6500, 19488] 33586\n",
      "ethusdt \t [988, 1537, 2616, 2737, 5371, 6500, 19488] 33586\n",
      "solusdt \t [988, 1537, 2616, 2737, 5371, 6500, 19488] 33586\n"
     ]
    }
   ],
   "source": [
    "for coin in ['ltcusdt', 'bnbusdt', 'trxusdt', 'xlmusdt', 'uniusdt'] + ['btcusdt'] + ['dogeusdt', 'dotusdt', 'ethusdt', 'solusdt']: # 'maticusdt', \n",
    "    df = pd.read_csv(f'data/{coin}.csv')\n",
    "    df[\"Open time diff\"] = df[\"Open time\"].diff()\n",
    "    indexes = list(df[df[\"Open time diff\"] != 3600000].index)\n",
    "    indexes.remove(0)\n",
    "    print(coin, \"\\t\", indexes, len(df))"
   ]
  },
  {
   "cell_type": "code",
   "execution_count": 68,
   "metadata": {},
   "outputs": [
    {
     "name": "stdout",
     "output_type": "stream",
     "text": [
      "[988, 1537, 2616, 2737, 5371, 6500, 19488]\n",
      "33573 32341\n"
     ]
    }
   ],
   "source": [
    "matic = pd.read_csv('data/maticusdt.csv')\n",
    "matic[\"Open time diff\"] = matic[\"Open time\"].diff()\n",
    "indexes = list(matic[matic[\"Open time diff\"] != 3600000].index)\n",
    "indexes.remove(0)\n",
    "print(indexes)\n",
    "\n",
    "print(len(bnb), len(matic))"
   ]
  },
  {
   "cell_type": "code",
   "execution_count": null,
   "metadata": {},
   "outputs": [],
   "source": []
  }
 ],
 "metadata": {
  "kernelspec": {
   "display_name": "base",
   "language": "python",
   "name": "python3"
  },
  "language_info": {
   "codemirror_mode": {
    "name": "ipython",
    "version": 3
   },
   "file_extension": ".py",
   "mimetype": "text/x-python",
   "name": "python",
   "nbconvert_exporter": "python",
   "pygments_lexer": "ipython3",
   "version": "3.10.8"
  }
 },
 "nbformat": 4,
 "nbformat_minor": 2
}
