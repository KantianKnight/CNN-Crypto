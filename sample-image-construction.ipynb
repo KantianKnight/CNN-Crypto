{
 "cells": [
  {
   "cell_type": "code",
   "execution_count": 1,
   "metadata": {},
   "outputs": [],
   "source": [
    "# Import all necessary libraries\n",
    "import numpy as np\n",
    "import pandas as pd\n",
    "import matplotlib.pyplot as plt\n",
    "import matplotlib.dates as mdates\n",
    "import mplfinance as mpf\n",
    "import plotly.graph_objects as go\n",
    "import pandas as pd\n",
    "import cv2\n",
    "import matplotlib.image as mpimg"
   ]
  },
  {
   "cell_type": "code",
   "execution_count": 118,
   "metadata": {},
   "outputs": [
    {
     "data": {
      "text/html": [
       "<div>\n",
       "<style scoped>\n",
       "    .dataframe tbody tr th:only-of-type {\n",
       "        vertical-align: middle;\n",
       "    }\n",
       "\n",
       "    .dataframe tbody tr th {\n",
       "        vertical-align: top;\n",
       "    }\n",
       "\n",
       "    .dataframe thead th {\n",
       "        text-align: right;\n",
       "    }\n",
       "</style>\n",
       "<table border=\"1\" class=\"dataframe\">\n",
       "  <thead>\n",
       "    <tr style=\"text-align: right;\">\n",
       "      <th></th>\n",
       "      <th>Open time</th>\n",
       "      <th>Open</th>\n",
       "      <th>High</th>\n",
       "      <th>Low</th>\n",
       "      <th>Close</th>\n",
       "      <th>Volume</th>\n",
       "      <th>Close time</th>\n",
       "      <th>Quote asset volume</th>\n",
       "      <th>Number of trades</th>\n",
       "      <th>Taker buy base asset volume</th>\n",
       "      <th>Taker buy quote asset volume</th>\n",
       "      <th>LogReturns</th>\n",
       "    </tr>\n",
       "  </thead>\n",
       "  <tbody>\n",
       "    <tr>\n",
       "      <th>0</th>\n",
       "      <td>1609459200000</td>\n",
       "      <td>0.21953</td>\n",
       "      <td>0.22235</td>\n",
       "      <td>0.21600</td>\n",
       "      <td>0.22162</td>\n",
       "      <td>41811263.2</td>\n",
       "      <td>1609462799999</td>\n",
       "      <td>9.182731e+06</td>\n",
       "      <td>15775</td>\n",
       "      <td>21324444.2</td>\n",
       "      <td>4.683732e+06</td>\n",
       "      <td>0.000000</td>\n",
       "    </tr>\n",
       "    <tr>\n",
       "      <th>1</th>\n",
       "      <td>1609462800000</td>\n",
       "      <td>0.22160</td>\n",
       "      <td>0.22695</td>\n",
       "      <td>0.22112</td>\n",
       "      <td>0.22382</td>\n",
       "      <td>50498851.0</td>\n",
       "      <td>1609466399999</td>\n",
       "      <td>1.132976e+07</td>\n",
       "      <td>20059</td>\n",
       "      <td>24266117.0</td>\n",
       "      <td>5.444734e+06</td>\n",
       "      <td>0.009878</td>\n",
       "    </tr>\n",
       "    <tr>\n",
       "      <th>2</th>\n",
       "      <td>1609466400000</td>\n",
       "      <td>0.22382</td>\n",
       "      <td>0.22495</td>\n",
       "      <td>0.22300</td>\n",
       "      <td>0.22361</td>\n",
       "      <td>24103267.5</td>\n",
       "      <td>1609469999999</td>\n",
       "      <td>5.396238e+06</td>\n",
       "      <td>11014</td>\n",
       "      <td>12751287.4</td>\n",
       "      <td>2.854956e+06</td>\n",
       "      <td>-0.000939</td>\n",
       "    </tr>\n",
       "    <tr>\n",
       "      <th>3</th>\n",
       "      <td>1609470000000</td>\n",
       "      <td>0.22370</td>\n",
       "      <td>0.22901</td>\n",
       "      <td>0.22339</td>\n",
       "      <td>0.22730</td>\n",
       "      <td>36455710.5</td>\n",
       "      <td>1609473599999</td>\n",
       "      <td>8.244463e+06</td>\n",
       "      <td>15609</td>\n",
       "      <td>18391583.1</td>\n",
       "      <td>4.160122e+06</td>\n",
       "      <td>0.016367</td>\n",
       "    </tr>\n",
       "    <tr>\n",
       "      <th>4</th>\n",
       "      <td>1609473600000</td>\n",
       "      <td>0.22730</td>\n",
       "      <td>0.25000</td>\n",
       "      <td>0.22640</td>\n",
       "      <td>0.23898</td>\n",
       "      <td>202261688.6</td>\n",
       "      <td>1609477199999</td>\n",
       "      <td>4.875000e+07</td>\n",
       "      <td>85810</td>\n",
       "      <td>108689838.6</td>\n",
       "      <td>2.619103e+07</td>\n",
       "      <td>0.050109</td>\n",
       "    </tr>\n",
       "  </tbody>\n",
       "</table>\n",
       "</div>"
      ],
      "text/plain": [
       "       Open time     Open     High      Low    Close       Volume  \\\n",
       "0  1609459200000  0.21953  0.22235  0.21600  0.22162   41811263.2   \n",
       "1  1609462800000  0.22160  0.22695  0.22112  0.22382   50498851.0   \n",
       "2  1609466400000  0.22382  0.22495  0.22300  0.22361   24103267.5   \n",
       "3  1609470000000  0.22370  0.22901  0.22339  0.22730   36455710.5   \n",
       "4  1609473600000  0.22730  0.25000  0.22640  0.23898  202261688.6   \n",
       "\n",
       "      Close time  Quote asset volume  Number of trades  \\\n",
       "0  1609462799999        9.182731e+06             15775   \n",
       "1  1609466399999        1.132976e+07             20059   \n",
       "2  1609469999999        5.396238e+06             11014   \n",
       "3  1609473599999        8.244463e+06             15609   \n",
       "4  1609477199999        4.875000e+07             85810   \n",
       "\n",
       "   Taker buy base asset volume  Taker buy quote asset volume  LogReturns  \n",
       "0                   21324444.2                  4.683732e+06    0.000000  \n",
       "1                   24266117.0                  5.444734e+06    0.009878  \n",
       "2                   12751287.4                  2.854956e+06   -0.000939  \n",
       "3                   18391583.1                  4.160122e+06    0.016367  \n",
       "4                  108689838.6                  2.619103e+07    0.050109  "
      ]
     },
     "execution_count": 118,
     "metadata": {},
     "output_type": "execute_result"
    }
   ],
   "source": [
    "# Read the data of ADA USDT\n",
    "adausdt = pd.read_csv(\"data/xrpusdt.csv\")\n",
    "\n",
    "# Check the data\n",
    "adausdt.head(5)"
   ]
  },
  {
   "cell_type": "code",
   "execution_count": 119,
   "metadata": {},
   "outputs": [
    {
     "data": {
      "text/plain": [
       "(33573, 12)"
      ]
     },
     "execution_count": 119,
     "metadata": {},
     "output_type": "execute_result"
    }
   ],
   "source": [
    "# Check the data shape\n",
    "adausdt.shape"
   ]
  },
  {
   "cell_type": "code",
   "execution_count": 120,
   "metadata": {},
   "outputs": [
    {
     "data": {
      "text/plain": [
       "['Open time',\n",
       " 'Open',\n",
       " 'High',\n",
       " 'Low',\n",
       " 'Close',\n",
       " 'Volume',\n",
       " 'Close time',\n",
       " 'Quote asset volume',\n",
       " 'Number of trades',\n",
       " 'Taker buy base asset volume',\n",
       " 'Taker buy quote asset volume',\n",
       " 'LogReturns']"
      ]
     },
     "execution_count": 120,
     "metadata": {},
     "output_type": "execute_result"
    }
   ],
   "source": [
    "# Print the list of columns\n",
    "adausdt.columns.tolist()"
   ]
  },
  {
   "cell_type": "code",
   "execution_count": 121,
   "metadata": {},
   "outputs": [
    {
     "data": {
      "text/html": [
       "<div>\n",
       "<style scoped>\n",
       "    .dataframe tbody tr th:only-of-type {\n",
       "        vertical-align: middle;\n",
       "    }\n",
       "\n",
       "    .dataframe tbody tr th {\n",
       "        vertical-align: top;\n",
       "    }\n",
       "\n",
       "    .dataframe thead th {\n",
       "        text-align: right;\n",
       "    }\n",
       "</style>\n",
       "<table border=\"1\" class=\"dataframe\">\n",
       "  <thead>\n",
       "    <tr style=\"text-align: right;\">\n",
       "      <th></th>\n",
       "      <th>Open</th>\n",
       "      <th>High</th>\n",
       "      <th>Low</th>\n",
       "      <th>Close</th>\n",
       "      <th>Volume</th>\n",
       "      <th>LogReturns</th>\n",
       "    </tr>\n",
       "  </thead>\n",
       "  <tbody>\n",
       "    <tr>\n",
       "      <th>0</th>\n",
       "      <td>0.21953</td>\n",
       "      <td>0.22235</td>\n",
       "      <td>0.21600</td>\n",
       "      <td>0.22162</td>\n",
       "      <td>41811263.2</td>\n",
       "      <td>0.000000</td>\n",
       "    </tr>\n",
       "    <tr>\n",
       "      <th>1</th>\n",
       "      <td>0.22160</td>\n",
       "      <td>0.22695</td>\n",
       "      <td>0.22112</td>\n",
       "      <td>0.22382</td>\n",
       "      <td>50498851.0</td>\n",
       "      <td>0.009878</td>\n",
       "    </tr>\n",
       "    <tr>\n",
       "      <th>2</th>\n",
       "      <td>0.22382</td>\n",
       "      <td>0.22495</td>\n",
       "      <td>0.22300</td>\n",
       "      <td>0.22361</td>\n",
       "      <td>24103267.5</td>\n",
       "      <td>-0.000939</td>\n",
       "    </tr>\n",
       "    <tr>\n",
       "      <th>3</th>\n",
       "      <td>0.22370</td>\n",
       "      <td>0.22901</td>\n",
       "      <td>0.22339</td>\n",
       "      <td>0.22730</td>\n",
       "      <td>36455710.5</td>\n",
       "      <td>0.016367</td>\n",
       "    </tr>\n",
       "    <tr>\n",
       "      <th>4</th>\n",
       "      <td>0.22730</td>\n",
       "      <td>0.25000</td>\n",
       "      <td>0.22640</td>\n",
       "      <td>0.23898</td>\n",
       "      <td>202261688.6</td>\n",
       "      <td>0.050109</td>\n",
       "    </tr>\n",
       "    <tr>\n",
       "      <th>...</th>\n",
       "      <td>...</td>\n",
       "      <td>...</td>\n",
       "      <td>...</td>\n",
       "      <td>...</td>\n",
       "      <td>...</td>\n",
       "      <td>...</td>\n",
       "    </tr>\n",
       "    <tr>\n",
       "      <th>33568</th>\n",
       "      <td>0.50670</td>\n",
       "      <td>0.50880</td>\n",
       "      <td>0.50600</td>\n",
       "      <td>0.50620</td>\n",
       "      <td>4771577.0</td>\n",
       "      <td>-0.001185</td>\n",
       "    </tr>\n",
       "    <tr>\n",
       "      <th>33569</th>\n",
       "      <td>0.50620</td>\n",
       "      <td>0.50920</td>\n",
       "      <td>0.50590</td>\n",
       "      <td>0.50860</td>\n",
       "      <td>5780806.0</td>\n",
       "      <td>0.004730</td>\n",
       "    </tr>\n",
       "    <tr>\n",
       "      <th>33570</th>\n",
       "      <td>0.50850</td>\n",
       "      <td>0.51070</td>\n",
       "      <td>0.50760</td>\n",
       "      <td>0.51000</td>\n",
       "      <td>3633848.0</td>\n",
       "      <td>0.002749</td>\n",
       "    </tr>\n",
       "    <tr>\n",
       "      <th>33571</th>\n",
       "      <td>0.51000</td>\n",
       "      <td>0.51090</td>\n",
       "      <td>0.50820</td>\n",
       "      <td>0.51080</td>\n",
       "      <td>3306474.0</td>\n",
       "      <td>0.001567</td>\n",
       "    </tr>\n",
       "    <tr>\n",
       "      <th>33572</th>\n",
       "      <td>0.51080</td>\n",
       "      <td>0.51140</td>\n",
       "      <td>0.50950</td>\n",
       "      <td>0.50950</td>\n",
       "      <td>2322785.0</td>\n",
       "      <td>-0.002548</td>\n",
       "    </tr>\n",
       "  </tbody>\n",
       "</table>\n",
       "<p>33573 rows × 6 columns</p>\n",
       "</div>"
      ],
      "text/plain": [
       "          Open     High      Low    Close       Volume  LogReturns\n",
       "0      0.21953  0.22235  0.21600  0.22162   41811263.2    0.000000\n",
       "1      0.22160  0.22695  0.22112  0.22382   50498851.0    0.009878\n",
       "2      0.22382  0.22495  0.22300  0.22361   24103267.5   -0.000939\n",
       "3      0.22370  0.22901  0.22339  0.22730   36455710.5    0.016367\n",
       "4      0.22730  0.25000  0.22640  0.23898  202261688.6    0.050109\n",
       "...        ...      ...      ...      ...          ...         ...\n",
       "33568  0.50670  0.50880  0.50600  0.50620    4771577.0   -0.001185\n",
       "33569  0.50620  0.50920  0.50590  0.50860    5780806.0    0.004730\n",
       "33570  0.50850  0.51070  0.50760  0.51000    3633848.0    0.002749\n",
       "33571  0.51000  0.51090  0.50820  0.51080    3306474.0    0.001567\n",
       "33572  0.51080  0.51140  0.50950  0.50950    2322785.0   -0.002548\n",
       "\n",
       "[33573 rows x 6 columns]"
      ]
     },
     "execution_count": 121,
     "metadata": {},
     "output_type": "execute_result"
    }
   ],
   "source": [
    "# Delete unnecessary columns\n",
    "adausdt_important = adausdt.drop([\"Open time\", \"Close time\", \"Number of trades\", \"Taker buy base asset volume\", 'Taker buy quote asset volume', \"Quote asset volume\"], axis = 1)\n",
    "adausdt_important"
   ]
  },
  {
   "cell_type": "code",
   "execution_count": 122,
   "metadata": {},
   "outputs": [
    {
     "data": {
      "text/plain": [
       "(24, 6)"
      ]
     },
     "execution_count": 122,
     "metadata": {},
     "output_type": "execute_result"
    }
   ],
   "source": [
    "# Create a sample image\n",
    "df_slice = adausdt_important[0: 24]\n",
    "df_slice.shape"
   ]
  },
  {
   "cell_type": "code",
   "execution_count": 123,
   "metadata": {},
   "outputs": [
    {
     "name": "stderr",
     "output_type": "stream",
     "text": [
      "/var/folders/pl/z1lfm5xs7299k23shpwd6ngh0000gp/T/ipykernel_3411/3321465241.py:3: SettingWithCopyWarning:\n",
      "\n",
      "\n",
      "A value is trying to be set on a copy of a slice from a DataFrame.\n",
      "Try using .loc[row_indexer,col_indexer] = value instead\n",
      "\n",
      "See the caveats in the documentation: https://pandas.pydata.org/pandas-docs/stable/user_guide/indexing.html#returning-a-view-versus-a-copy\n",
      "\n"
     ]
    },
    {
     "data": {
      "text/html": [
       "<div>\n",
       "<style scoped>\n",
       "    .dataframe tbody tr th:only-of-type {\n",
       "        vertical-align: middle;\n",
       "    }\n",
       "\n",
       "    .dataframe tbody tr th {\n",
       "        vertical-align: top;\n",
       "    }\n",
       "\n",
       "    .dataframe thead th {\n",
       "        text-align: right;\n",
       "    }\n",
       "</style>\n",
       "<table border=\"1\" class=\"dataframe\">\n",
       "  <thead>\n",
       "    <tr style=\"text-align: right;\">\n",
       "      <th></th>\n",
       "      <th>Open</th>\n",
       "      <th>High</th>\n",
       "      <th>Low</th>\n",
       "      <th>Close</th>\n",
       "      <th>Volume</th>\n",
       "      <th>LogReturns</th>\n",
       "      <th>Date</th>\n",
       "    </tr>\n",
       "  </thead>\n",
       "  <tbody>\n",
       "    <tr>\n",
       "      <th>0</th>\n",
       "      <td>0.21953</td>\n",
       "      <td>0.22235</td>\n",
       "      <td>0.21600</td>\n",
       "      <td>0.22162</td>\n",
       "      <td>41811263.2</td>\n",
       "      <td>0.000000</td>\n",
       "      <td>2023-01-01 00:00:00</td>\n",
       "    </tr>\n",
       "    <tr>\n",
       "      <th>1</th>\n",
       "      <td>0.22160</td>\n",
       "      <td>0.22695</td>\n",
       "      <td>0.22112</td>\n",
       "      <td>0.22382</td>\n",
       "      <td>50498851.0</td>\n",
       "      <td>0.009878</td>\n",
       "      <td>2023-01-01 01:00:00</td>\n",
       "    </tr>\n",
       "    <tr>\n",
       "      <th>2</th>\n",
       "      <td>0.22382</td>\n",
       "      <td>0.22495</td>\n",
       "      <td>0.22300</td>\n",
       "      <td>0.22361</td>\n",
       "      <td>24103267.5</td>\n",
       "      <td>-0.000939</td>\n",
       "      <td>2023-01-01 02:00:00</td>\n",
       "    </tr>\n",
       "    <tr>\n",
       "      <th>3</th>\n",
       "      <td>0.22370</td>\n",
       "      <td>0.22901</td>\n",
       "      <td>0.22339</td>\n",
       "      <td>0.22730</td>\n",
       "      <td>36455710.5</td>\n",
       "      <td>0.016367</td>\n",
       "      <td>2023-01-01 03:00:00</td>\n",
       "    </tr>\n",
       "    <tr>\n",
       "      <th>4</th>\n",
       "      <td>0.22730</td>\n",
       "      <td>0.25000</td>\n",
       "      <td>0.22640</td>\n",
       "      <td>0.23898</td>\n",
       "      <td>202261688.6</td>\n",
       "      <td>0.050109</td>\n",
       "      <td>2023-01-01 04:00:00</td>\n",
       "    </tr>\n",
       "    <tr>\n",
       "      <th>5</th>\n",
       "      <td>0.23891</td>\n",
       "      <td>0.24187</td>\n",
       "      <td>0.23470</td>\n",
       "      <td>0.23819</td>\n",
       "      <td>73967814.5</td>\n",
       "      <td>-0.003311</td>\n",
       "      <td>2023-01-01 05:00:00</td>\n",
       "    </tr>\n",
       "    <tr>\n",
       "      <th>6</th>\n",
       "      <td>0.23819</td>\n",
       "      <td>0.23903</td>\n",
       "      <td>0.23037</td>\n",
       "      <td>0.23428</td>\n",
       "      <td>59163886.6</td>\n",
       "      <td>-0.016552</td>\n",
       "      <td>2023-01-01 06:00:00</td>\n",
       "    </tr>\n",
       "    <tr>\n",
       "      <th>7</th>\n",
       "      <td>0.23421</td>\n",
       "      <td>0.23430</td>\n",
       "      <td>0.22564</td>\n",
       "      <td>0.22976</td>\n",
       "      <td>75509666.3</td>\n",
       "      <td>-0.019482</td>\n",
       "      <td>2023-01-01 07:00:00</td>\n",
       "    </tr>\n",
       "    <tr>\n",
       "      <th>8</th>\n",
       "      <td>0.22971</td>\n",
       "      <td>0.23195</td>\n",
       "      <td>0.22577</td>\n",
       "      <td>0.22874</td>\n",
       "      <td>50737349.1</td>\n",
       "      <td>-0.004449</td>\n",
       "      <td>2023-01-01 08:00:00</td>\n",
       "    </tr>\n",
       "    <tr>\n",
       "      <th>9</th>\n",
       "      <td>0.22878</td>\n",
       "      <td>0.23781</td>\n",
       "      <td>0.22851</td>\n",
       "      <td>0.23259</td>\n",
       "      <td>60071806.0</td>\n",
       "      <td>0.016691</td>\n",
       "      <td>2023-01-01 09:00:00</td>\n",
       "    </tr>\n",
       "    <tr>\n",
       "      <th>10</th>\n",
       "      <td>0.23263</td>\n",
       "      <td>0.23920</td>\n",
       "      <td>0.23020</td>\n",
       "      <td>0.23692</td>\n",
       "      <td>51970059.8</td>\n",
       "      <td>0.018445</td>\n",
       "      <td>2023-01-01 10:00:00</td>\n",
       "    </tr>\n",
       "    <tr>\n",
       "      <th>11</th>\n",
       "      <td>0.23698</td>\n",
       "      <td>0.24231</td>\n",
       "      <td>0.23526</td>\n",
       "      <td>0.23732</td>\n",
       "      <td>60938639.2</td>\n",
       "      <td>0.001687</td>\n",
       "      <td>2023-01-01 11:00:00</td>\n",
       "    </tr>\n",
       "    <tr>\n",
       "      <th>12</th>\n",
       "      <td>0.23736</td>\n",
       "      <td>0.24024</td>\n",
       "      <td>0.23139</td>\n",
       "      <td>0.23320</td>\n",
       "      <td>58046499.5</td>\n",
       "      <td>-0.017513</td>\n",
       "      <td>2023-01-01 12:00:00</td>\n",
       "    </tr>\n",
       "    <tr>\n",
       "      <th>13</th>\n",
       "      <td>0.23318</td>\n",
       "      <td>0.23646</td>\n",
       "      <td>0.23318</td>\n",
       "      <td>0.23425</td>\n",
       "      <td>36855285.0</td>\n",
       "      <td>0.004492</td>\n",
       "      <td>2023-01-01 13:00:00</td>\n",
       "    </tr>\n",
       "    <tr>\n",
       "      <th>14</th>\n",
       "      <td>0.23428</td>\n",
       "      <td>0.23787</td>\n",
       "      <td>0.23250</td>\n",
       "      <td>0.23681</td>\n",
       "      <td>46923851.9</td>\n",
       "      <td>0.010869</td>\n",
       "      <td>2023-01-01 14:00:00</td>\n",
       "    </tr>\n",
       "    <tr>\n",
       "      <th>15</th>\n",
       "      <td>0.23674</td>\n",
       "      <td>0.24460</td>\n",
       "      <td>0.23654</td>\n",
       "      <td>0.24282</td>\n",
       "      <td>72727117.6</td>\n",
       "      <td>0.025062</td>\n",
       "      <td>2023-01-01 15:00:00</td>\n",
       "    </tr>\n",
       "    <tr>\n",
       "      <th>16</th>\n",
       "      <td>0.24289</td>\n",
       "      <td>0.24960</td>\n",
       "      <td>0.24000</td>\n",
       "      <td>0.24663</td>\n",
       "      <td>93929644.3</td>\n",
       "      <td>0.015569</td>\n",
       "      <td>2023-01-01 16:00:00</td>\n",
       "    </tr>\n",
       "    <tr>\n",
       "      <th>17</th>\n",
       "      <td>0.24662</td>\n",
       "      <td>0.25000</td>\n",
       "      <td>0.23424</td>\n",
       "      <td>0.23681</td>\n",
       "      <td>126818108.9</td>\n",
       "      <td>-0.040631</td>\n",
       "      <td>2023-01-01 17:00:00</td>\n",
       "    </tr>\n",
       "    <tr>\n",
       "      <th>18</th>\n",
       "      <td>0.23680</td>\n",
       "      <td>0.24100</td>\n",
       "      <td>0.22888</td>\n",
       "      <td>0.23471</td>\n",
       "      <td>89993569.8</td>\n",
       "      <td>-0.008907</td>\n",
       "      <td>2023-01-01 18:00:00</td>\n",
       "    </tr>\n",
       "    <tr>\n",
       "      <th>19</th>\n",
       "      <td>0.23470</td>\n",
       "      <td>0.23683</td>\n",
       "      <td>0.23000</td>\n",
       "      <td>0.23371</td>\n",
       "      <td>52110726.2</td>\n",
       "      <td>-0.004270</td>\n",
       "      <td>2023-01-01 19:00:00</td>\n",
       "    </tr>\n",
       "    <tr>\n",
       "      <th>20</th>\n",
       "      <td>0.23382</td>\n",
       "      <td>0.23798</td>\n",
       "      <td>0.23243</td>\n",
       "      <td>0.23703</td>\n",
       "      <td>36479865.1</td>\n",
       "      <td>0.014106</td>\n",
       "      <td>2023-01-01 20:00:00</td>\n",
       "    </tr>\n",
       "    <tr>\n",
       "      <th>21</th>\n",
       "      <td>0.23706</td>\n",
       "      <td>0.24100</td>\n",
       "      <td>0.23657</td>\n",
       "      <td>0.23767</td>\n",
       "      <td>38449391.0</td>\n",
       "      <td>0.002696</td>\n",
       "      <td>2023-01-01 21:00:00</td>\n",
       "    </tr>\n",
       "    <tr>\n",
       "      <th>22</th>\n",
       "      <td>0.23770</td>\n",
       "      <td>0.23960</td>\n",
       "      <td>0.23698</td>\n",
       "      <td>0.23783</td>\n",
       "      <td>19778855.3</td>\n",
       "      <td>0.000673</td>\n",
       "      <td>2023-01-01 22:00:00</td>\n",
       "    </tr>\n",
       "    <tr>\n",
       "      <th>23</th>\n",
       "      <td>0.23783</td>\n",
       "      <td>0.23986</td>\n",
       "      <td>0.23396</td>\n",
       "      <td>0.23746</td>\n",
       "      <td>30886810.5</td>\n",
       "      <td>-0.001557</td>\n",
       "      <td>2023-01-01 23:00:00</td>\n",
       "    </tr>\n",
       "  </tbody>\n",
       "</table>\n",
       "</div>"
      ],
      "text/plain": [
       "       Open     High      Low    Close       Volume  LogReturns  \\\n",
       "0   0.21953  0.22235  0.21600  0.22162   41811263.2    0.000000   \n",
       "1   0.22160  0.22695  0.22112  0.22382   50498851.0    0.009878   \n",
       "2   0.22382  0.22495  0.22300  0.22361   24103267.5   -0.000939   \n",
       "3   0.22370  0.22901  0.22339  0.22730   36455710.5    0.016367   \n",
       "4   0.22730  0.25000  0.22640  0.23898  202261688.6    0.050109   \n",
       "5   0.23891  0.24187  0.23470  0.23819   73967814.5   -0.003311   \n",
       "6   0.23819  0.23903  0.23037  0.23428   59163886.6   -0.016552   \n",
       "7   0.23421  0.23430  0.22564  0.22976   75509666.3   -0.019482   \n",
       "8   0.22971  0.23195  0.22577  0.22874   50737349.1   -0.004449   \n",
       "9   0.22878  0.23781  0.22851  0.23259   60071806.0    0.016691   \n",
       "10  0.23263  0.23920  0.23020  0.23692   51970059.8    0.018445   \n",
       "11  0.23698  0.24231  0.23526  0.23732   60938639.2    0.001687   \n",
       "12  0.23736  0.24024  0.23139  0.23320   58046499.5   -0.017513   \n",
       "13  0.23318  0.23646  0.23318  0.23425   36855285.0    0.004492   \n",
       "14  0.23428  0.23787  0.23250  0.23681   46923851.9    0.010869   \n",
       "15  0.23674  0.24460  0.23654  0.24282   72727117.6    0.025062   \n",
       "16  0.24289  0.24960  0.24000  0.24663   93929644.3    0.015569   \n",
       "17  0.24662  0.25000  0.23424  0.23681  126818108.9   -0.040631   \n",
       "18  0.23680  0.24100  0.22888  0.23471   89993569.8   -0.008907   \n",
       "19  0.23470  0.23683  0.23000  0.23371   52110726.2   -0.004270   \n",
       "20  0.23382  0.23798  0.23243  0.23703   36479865.1    0.014106   \n",
       "21  0.23706  0.24100  0.23657  0.23767   38449391.0    0.002696   \n",
       "22  0.23770  0.23960  0.23698  0.23783   19778855.3    0.000673   \n",
       "23  0.23783  0.23986  0.23396  0.23746   30886810.5   -0.001557   \n",
       "\n",
       "                  Date  \n",
       "0  2023-01-01 00:00:00  \n",
       "1  2023-01-01 01:00:00  \n",
       "2  2023-01-01 02:00:00  \n",
       "3  2023-01-01 03:00:00  \n",
       "4  2023-01-01 04:00:00  \n",
       "5  2023-01-01 05:00:00  \n",
       "6  2023-01-01 06:00:00  \n",
       "7  2023-01-01 07:00:00  \n",
       "8  2023-01-01 08:00:00  \n",
       "9  2023-01-01 09:00:00  \n",
       "10 2023-01-01 10:00:00  \n",
       "11 2023-01-01 11:00:00  \n",
       "12 2023-01-01 12:00:00  \n",
       "13 2023-01-01 13:00:00  \n",
       "14 2023-01-01 14:00:00  \n",
       "15 2023-01-01 15:00:00  \n",
       "16 2023-01-01 16:00:00  \n",
       "17 2023-01-01 17:00:00  \n",
       "18 2023-01-01 18:00:00  \n",
       "19 2023-01-01 19:00:00  \n",
       "20 2023-01-01 20:00:00  \n",
       "21 2023-01-01 21:00:00  \n",
       "22 2023-01-01 22:00:00  \n",
       "23 2023-01-01 23:00:00  "
      ]
     },
     "execution_count": 123,
     "metadata": {},
     "output_type": "execute_result"
    }
   ],
   "source": [
    "# Plot a sample image\n",
    "# Create a data range for the x-axis\n",
    "df_slice[\"Date\"] = pd.date_range(start = '2023-01-01', periods = 24, freq = 'h')\n",
    "df_slice"
   ]
  },
  {
   "cell_type": "code",
   "execution_count": 124,
   "metadata": {},
   "outputs": [
    {
     "data": {
      "application/vnd.plotly.v1+json": {
       "config": {
        "plotlyServerURL": "https://plot.ly"
       },
       "data": [
        {
         "close": [
          0.22162,
          0.22382,
          0.22361,
          0.2273,
          0.23898,
          0.23819,
          0.23428,
          0.22976,
          0.22874,
          0.23259,
          0.23692,
          0.23732,
          0.2332,
          0.23425,
          0.23681,
          0.24282,
          0.24663,
          0.23681,
          0.23471,
          0.23371,
          0.23703,
          0.23767,
          0.23783,
          0.23746
         ],
         "decreasing": {
          "line": {
           "color": "white"
          }
         },
         "high": [
          0.22235,
          0.22695,
          0.22495,
          0.22901,
          0.25,
          0.24187,
          0.23903,
          0.2343,
          0.23195,
          0.23781,
          0.2392,
          0.24231,
          0.24024,
          0.23646,
          0.23787,
          0.2446,
          0.2496,
          0.25,
          0.241,
          0.23683,
          0.23798,
          0.241,
          0.2396,
          0.23986
         ],
         "increasing": {
          "line": {
           "color": "white"
          }
         },
         "line": {
          "width": 1
         },
         "low": [
          0.216,
          0.22112,
          0.223,
          0.22339,
          0.2264,
          0.2347,
          0.23037,
          0.22564,
          0.22577,
          0.22851,
          0.2302,
          0.23526,
          0.23139,
          0.23318,
          0.2325,
          0.23654,
          0.24,
          0.23424,
          0.22888,
          0.23,
          0.23243,
          0.23657,
          0.23698,
          0.23396
         ],
         "name": "OHLC",
         "open": [
          0.21953,
          0.2216,
          0.22382,
          0.2237,
          0.2273,
          0.23891,
          0.23819,
          0.23421,
          0.22971,
          0.22878,
          0.23263,
          0.23698,
          0.23736,
          0.23318,
          0.23428,
          0.23674,
          0.24289,
          0.24662,
          0.2368,
          0.2347,
          0.23382,
          0.23706,
          0.2377,
          0.23783
         ],
         "type": "ohlc",
         "x": [
          "2023-01-01T00:00:00",
          "2023-01-01T01:00:00",
          "2023-01-01T02:00:00",
          "2023-01-01T03:00:00",
          "2023-01-01T04:00:00",
          "2023-01-01T05:00:00",
          "2023-01-01T06:00:00",
          "2023-01-01T07:00:00",
          "2023-01-01T08:00:00",
          "2023-01-01T09:00:00",
          "2023-01-01T10:00:00",
          "2023-01-01T11:00:00",
          "2023-01-01T12:00:00",
          "2023-01-01T13:00:00",
          "2023-01-01T14:00:00",
          "2023-01-01T15:00:00",
          "2023-01-01T16:00:00",
          "2023-01-01T17:00:00",
          "2023-01-01T18:00:00",
          "2023-01-01T19:00:00",
          "2023-01-01T20:00:00",
          "2023-01-01T21:00:00",
          "2023-01-01T22:00:00",
          "2023-01-01T23:00:00"
         ],
         "yaxis": "y"
        }
       ],
       "layout": {
        "height": 54.4,
        "margin": {
         "b": 0,
         "l": 0,
         "r": 0,
         "t": 0
        },
        "paper_bgcolor": "black",
        "plot_bgcolor": "black",
        "showlegend": false,
        "template": {
         "data": {
          "bar": [
           {
            "error_x": {
             "color": "#2a3f5f"
            },
            "error_y": {
             "color": "#2a3f5f"
            },
            "marker": {
             "line": {
              "color": "#E5ECF6",
              "width": 0.5
             },
             "pattern": {
              "fillmode": "overlay",
              "size": 10,
              "solidity": 0.2
             }
            },
            "type": "bar"
           }
          ],
          "barpolar": [
           {
            "marker": {
             "line": {
              "color": "#E5ECF6",
              "width": 0.5
             },
             "pattern": {
              "fillmode": "overlay",
              "size": 10,
              "solidity": 0.2
             }
            },
            "type": "barpolar"
           }
          ],
          "carpet": [
           {
            "aaxis": {
             "endlinecolor": "#2a3f5f",
             "gridcolor": "white",
             "linecolor": "white",
             "minorgridcolor": "white",
             "startlinecolor": "#2a3f5f"
            },
            "baxis": {
             "endlinecolor": "#2a3f5f",
             "gridcolor": "white",
             "linecolor": "white",
             "minorgridcolor": "white",
             "startlinecolor": "#2a3f5f"
            },
            "type": "carpet"
           }
          ],
          "choropleth": [
           {
            "colorbar": {
             "outlinewidth": 0,
             "ticks": ""
            },
            "type": "choropleth"
           }
          ],
          "contour": [
           {
            "colorbar": {
             "outlinewidth": 0,
             "ticks": ""
            },
            "colorscale": [
             [
              0,
              "#0d0887"
             ],
             [
              0.1111111111111111,
              "#46039f"
             ],
             [
              0.2222222222222222,
              "#7201a8"
             ],
             [
              0.3333333333333333,
              "#9c179e"
             ],
             [
              0.4444444444444444,
              "#bd3786"
             ],
             [
              0.5555555555555556,
              "#d8576b"
             ],
             [
              0.6666666666666666,
              "#ed7953"
             ],
             [
              0.7777777777777778,
              "#fb9f3a"
             ],
             [
              0.8888888888888888,
              "#fdca26"
             ],
             [
              1,
              "#f0f921"
             ]
            ],
            "type": "contour"
           }
          ],
          "contourcarpet": [
           {
            "colorbar": {
             "outlinewidth": 0,
             "ticks": ""
            },
            "type": "contourcarpet"
           }
          ],
          "heatmap": [
           {
            "colorbar": {
             "outlinewidth": 0,
             "ticks": ""
            },
            "colorscale": [
             [
              0,
              "#0d0887"
             ],
             [
              0.1111111111111111,
              "#46039f"
             ],
             [
              0.2222222222222222,
              "#7201a8"
             ],
             [
              0.3333333333333333,
              "#9c179e"
             ],
             [
              0.4444444444444444,
              "#bd3786"
             ],
             [
              0.5555555555555556,
              "#d8576b"
             ],
             [
              0.6666666666666666,
              "#ed7953"
             ],
             [
              0.7777777777777778,
              "#fb9f3a"
             ],
             [
              0.8888888888888888,
              "#fdca26"
             ],
             [
              1,
              "#f0f921"
             ]
            ],
            "type": "heatmap"
           }
          ],
          "heatmapgl": [
           {
            "colorbar": {
             "outlinewidth": 0,
             "ticks": ""
            },
            "colorscale": [
             [
              0,
              "#0d0887"
             ],
             [
              0.1111111111111111,
              "#46039f"
             ],
             [
              0.2222222222222222,
              "#7201a8"
             ],
             [
              0.3333333333333333,
              "#9c179e"
             ],
             [
              0.4444444444444444,
              "#bd3786"
             ],
             [
              0.5555555555555556,
              "#d8576b"
             ],
             [
              0.6666666666666666,
              "#ed7953"
             ],
             [
              0.7777777777777778,
              "#fb9f3a"
             ],
             [
              0.8888888888888888,
              "#fdca26"
             ],
             [
              1,
              "#f0f921"
             ]
            ],
            "type": "heatmapgl"
           }
          ],
          "histogram": [
           {
            "marker": {
             "pattern": {
              "fillmode": "overlay",
              "size": 10,
              "solidity": 0.2
             }
            },
            "type": "histogram"
           }
          ],
          "histogram2d": [
           {
            "colorbar": {
             "outlinewidth": 0,
             "ticks": ""
            },
            "colorscale": [
             [
              0,
              "#0d0887"
             ],
             [
              0.1111111111111111,
              "#46039f"
             ],
             [
              0.2222222222222222,
              "#7201a8"
             ],
             [
              0.3333333333333333,
              "#9c179e"
             ],
             [
              0.4444444444444444,
              "#bd3786"
             ],
             [
              0.5555555555555556,
              "#d8576b"
             ],
             [
              0.6666666666666666,
              "#ed7953"
             ],
             [
              0.7777777777777778,
              "#fb9f3a"
             ],
             [
              0.8888888888888888,
              "#fdca26"
             ],
             [
              1,
              "#f0f921"
             ]
            ],
            "type": "histogram2d"
           }
          ],
          "histogram2dcontour": [
           {
            "colorbar": {
             "outlinewidth": 0,
             "ticks": ""
            },
            "colorscale": [
             [
              0,
              "#0d0887"
             ],
             [
              0.1111111111111111,
              "#46039f"
             ],
             [
              0.2222222222222222,
              "#7201a8"
             ],
             [
              0.3333333333333333,
              "#9c179e"
             ],
             [
              0.4444444444444444,
              "#bd3786"
             ],
             [
              0.5555555555555556,
              "#d8576b"
             ],
             [
              0.6666666666666666,
              "#ed7953"
             ],
             [
              0.7777777777777778,
              "#fb9f3a"
             ],
             [
              0.8888888888888888,
              "#fdca26"
             ],
             [
              1,
              "#f0f921"
             ]
            ],
            "type": "histogram2dcontour"
           }
          ],
          "mesh3d": [
           {
            "colorbar": {
             "outlinewidth": 0,
             "ticks": ""
            },
            "type": "mesh3d"
           }
          ],
          "parcoords": [
           {
            "line": {
             "colorbar": {
              "outlinewidth": 0,
              "ticks": ""
             }
            },
            "type": "parcoords"
           }
          ],
          "pie": [
           {
            "automargin": true,
            "type": "pie"
           }
          ],
          "scatter": [
           {
            "fillpattern": {
             "fillmode": "overlay",
             "size": 10,
             "solidity": 0.2
            },
            "type": "scatter"
           }
          ],
          "scatter3d": [
           {
            "line": {
             "colorbar": {
              "outlinewidth": 0,
              "ticks": ""
             }
            },
            "marker": {
             "colorbar": {
              "outlinewidth": 0,
              "ticks": ""
             }
            },
            "type": "scatter3d"
           }
          ],
          "scattercarpet": [
           {
            "marker": {
             "colorbar": {
              "outlinewidth": 0,
              "ticks": ""
             }
            },
            "type": "scattercarpet"
           }
          ],
          "scattergeo": [
           {
            "marker": {
             "colorbar": {
              "outlinewidth": 0,
              "ticks": ""
             }
            },
            "type": "scattergeo"
           }
          ],
          "scattergl": [
           {
            "marker": {
             "colorbar": {
              "outlinewidth": 0,
              "ticks": ""
             }
            },
            "type": "scattergl"
           }
          ],
          "scattermapbox": [
           {
            "marker": {
             "colorbar": {
              "outlinewidth": 0,
              "ticks": ""
             }
            },
            "type": "scattermapbox"
           }
          ],
          "scatterpolar": [
           {
            "marker": {
             "colorbar": {
              "outlinewidth": 0,
              "ticks": ""
             }
            },
            "type": "scatterpolar"
           }
          ],
          "scatterpolargl": [
           {
            "marker": {
             "colorbar": {
              "outlinewidth": 0,
              "ticks": ""
             }
            },
            "type": "scatterpolargl"
           }
          ],
          "scatterternary": [
           {
            "marker": {
             "colorbar": {
              "outlinewidth": 0,
              "ticks": ""
             }
            },
            "type": "scatterternary"
           }
          ],
          "surface": [
           {
            "colorbar": {
             "outlinewidth": 0,
             "ticks": ""
            },
            "colorscale": [
             [
              0,
              "#0d0887"
             ],
             [
              0.1111111111111111,
              "#46039f"
             ],
             [
              0.2222222222222222,
              "#7201a8"
             ],
             [
              0.3333333333333333,
              "#9c179e"
             ],
             [
              0.4444444444444444,
              "#bd3786"
             ],
             [
              0.5555555555555556,
              "#d8576b"
             ],
             [
              0.6666666666666666,
              "#ed7953"
             ],
             [
              0.7777777777777778,
              "#fb9f3a"
             ],
             [
              0.8888888888888888,
              "#fdca26"
             ],
             [
              1,
              "#f0f921"
             ]
            ],
            "type": "surface"
           }
          ],
          "table": [
           {
            "cells": {
             "fill": {
              "color": "#EBF0F8"
             },
             "line": {
              "color": "white"
             }
            },
            "header": {
             "fill": {
              "color": "#C8D4E3"
             },
             "line": {
              "color": "white"
             }
            },
            "type": "table"
           }
          ]
         },
         "layout": {
          "annotationdefaults": {
           "arrowcolor": "#2a3f5f",
           "arrowhead": 0,
           "arrowwidth": 1
          },
          "autotypenumbers": "strict",
          "coloraxis": {
           "colorbar": {
            "outlinewidth": 0,
            "ticks": ""
           }
          },
          "colorscale": {
           "diverging": [
            [
             0,
             "#8e0152"
            ],
            [
             0.1,
             "#c51b7d"
            ],
            [
             0.2,
             "#de77ae"
            ],
            [
             0.3,
             "#f1b6da"
            ],
            [
             0.4,
             "#fde0ef"
            ],
            [
             0.5,
             "#f7f7f7"
            ],
            [
             0.6,
             "#e6f5d0"
            ],
            [
             0.7,
             "#b8e186"
            ],
            [
             0.8,
             "#7fbc41"
            ],
            [
             0.9,
             "#4d9221"
            ],
            [
             1,
             "#276419"
            ]
           ],
           "sequential": [
            [
             0,
             "#0d0887"
            ],
            [
             0.1111111111111111,
             "#46039f"
            ],
            [
             0.2222222222222222,
             "#7201a8"
            ],
            [
             0.3333333333333333,
             "#9c179e"
            ],
            [
             0.4444444444444444,
             "#bd3786"
            ],
            [
             0.5555555555555556,
             "#d8576b"
            ],
            [
             0.6666666666666666,
             "#ed7953"
            ],
            [
             0.7777777777777778,
             "#fb9f3a"
            ],
            [
             0.8888888888888888,
             "#fdca26"
            ],
            [
             1,
             "#f0f921"
            ]
           ],
           "sequentialminus": [
            [
             0,
             "#0d0887"
            ],
            [
             0.1111111111111111,
             "#46039f"
            ],
            [
             0.2222222222222222,
             "#7201a8"
            ],
            [
             0.3333333333333333,
             "#9c179e"
            ],
            [
             0.4444444444444444,
             "#bd3786"
            ],
            [
             0.5555555555555556,
             "#d8576b"
            ],
            [
             0.6666666666666666,
             "#ed7953"
            ],
            [
             0.7777777777777778,
             "#fb9f3a"
            ],
            [
             0.8888888888888888,
             "#fdca26"
            ],
            [
             1,
             "#f0f921"
            ]
           ]
          },
          "colorway": [
           "#636efa",
           "#EF553B",
           "#00cc96",
           "#ab63fa",
           "#FFA15A",
           "#19d3f3",
           "#FF6692",
           "#B6E880",
           "#FF97FF",
           "#FECB52"
          ],
          "font": {
           "color": "#2a3f5f"
          },
          "geo": {
           "bgcolor": "white",
           "lakecolor": "white",
           "landcolor": "#E5ECF6",
           "showlakes": true,
           "showland": true,
           "subunitcolor": "white"
          },
          "hoverlabel": {
           "align": "left"
          },
          "hovermode": "closest",
          "mapbox": {
           "style": "light"
          },
          "paper_bgcolor": "white",
          "plot_bgcolor": "#E5ECF6",
          "polar": {
           "angularaxis": {
            "gridcolor": "white",
            "linecolor": "white",
            "ticks": ""
           },
           "bgcolor": "#E5ECF6",
           "radialaxis": {
            "gridcolor": "white",
            "linecolor": "white",
            "ticks": ""
           }
          },
          "scene": {
           "xaxis": {
            "backgroundcolor": "#E5ECF6",
            "gridcolor": "white",
            "gridwidth": 2,
            "linecolor": "white",
            "showbackground": true,
            "ticks": "",
            "zerolinecolor": "white"
           },
           "yaxis": {
            "backgroundcolor": "#E5ECF6",
            "gridcolor": "white",
            "gridwidth": 2,
            "linecolor": "white",
            "showbackground": true,
            "ticks": "",
            "zerolinecolor": "white"
           },
           "zaxis": {
            "backgroundcolor": "#E5ECF6",
            "gridcolor": "white",
            "gridwidth": 2,
            "linecolor": "white",
            "showbackground": true,
            "ticks": "",
            "zerolinecolor": "white"
           }
          },
          "shapedefaults": {
           "line": {
            "color": "#2a3f5f"
           }
          },
          "ternary": {
           "aaxis": {
            "gridcolor": "white",
            "linecolor": "white",
            "ticks": ""
           },
           "baxis": {
            "gridcolor": "white",
            "linecolor": "white",
            "ticks": ""
           },
           "bgcolor": "#E5ECF6",
           "caxis": {
            "gridcolor": "white",
            "linecolor": "white",
            "ticks": ""
           }
          },
          "title": {
           "x": 0.05
          },
          "xaxis": {
           "automargin": true,
           "gridcolor": "white",
           "linecolor": "white",
           "ticks": "",
           "title": {
            "standoff": 15
           },
           "zerolinecolor": "white",
           "zerolinewidth": 2
          },
          "yaxis": {
           "automargin": true,
           "gridcolor": "white",
           "linecolor": "white",
           "ticks": "",
           "title": {
            "standoff": 15
           },
           "zerolinecolor": "white",
           "zerolinewidth": 2
          }
         }
        },
        "width": 72,
        "xaxis": {
         "gridcolor": "black",
         "rangeslider": {
          "visible": false
         },
         "showticklabels": false,
         "ticks": "",
         "type": "date"
        },
        "yaxis": {
         "gridcolor": "black",
         "range": [
          0.216,
          0.25
         ],
         "visible": false
        }
       }
      }
     },
     "metadata": {},
     "output_type": "display_data"
    }
   ],
   "source": [
    "# Create a figure\n",
    "fig = go.Figure()\n",
    "\n",
    "# Add the OHLC bar\n",
    "fig.add_trace(go.Ohlc(x = df_slice[\"Date\"], open = df_slice[\"Open\"],\n",
    "                      high = df_slice[\"High\"], low = df_slice[\"Low\"],\n",
    "                      close = df_slice[\"Close\"], name = \"OHLC\",\n",
    "                      yaxis = \"y\", increasing_line_color = \"white\", decreasing_line_color = \"white\", line=dict(width = 1)))\n",
    "\n",
    "# # Add the volume bar\n",
    "# fig.add_trace(go.Bar(x = df_slice[\"Date\"], y = df_slice[\"Volume\"], yaxis = \"y2\", name = \"Volume\", marker = dict(color = \"white\")))\n",
    "# fig.add_trace(go.Scatter(\n",
    "#     x=df_slice[\"Date\"],\n",
    "#     y=df_slice[\"Open\"],\n",
    "#     mode='markers',\n",
    "#     marker=dict(color='white', size=1),  # Larger white markers for open\n",
    "#     name='Open'\n",
    "# ))\n",
    "\n",
    "fig.update_layout(\n",
    "    paper_bgcolor='black',\n",
    "    plot_bgcolor='black',\n",
    "    xaxis_rangeslider_visible = False,\n",
    "    xaxis = {\n",
    "    \"showticklabels\": False,\n",
    "    \"ticks\": \"\",\n",
    "    \"type\": \"date\",\n",
    "    \"gridcolor\": \"black\"\n",
    "    },\n",
    "    yaxis = {\n",
    "        # 'domain': [0.2, 1],\n",
    "        'range': [min(df_slice[\"Low\"].min(), df_slice[\"Open\"].min(), \n",
    "                       df_slice[\"Close\"].min()), \n",
    "                      max(df_slice[\"High\"].max(), df_slice[\"Open\"].max(), \n",
    "                        df_slice[\"Close\"].max())],\n",
    "        'visible': False,\n",
    "        \"gridcolor\": \"black\"\n",
    "    },\n",
    "    # yaxis2 = dict(domain = [0, 0.2], visible = False),\n",
    "    width = 72, # REMEMBER TO CHANGE TO 60\n",
    "    height = 54.4, # REMEMBER TO CHANGE TO 64\n",
    "    showlegend = False,\n",
    "    margin = dict(l = 0, r = 0, t = 0, b = 0)\n",
    ")\n",
    "\n",
    "# Show the figure\n",
    "fig.show()"
   ]
  },
  {
   "cell_type": "code",
   "execution_count": 125,
   "metadata": {},
   "outputs": [],
   "source": [
    "# Export the image\n",
    "file_name = f\"sample_image.jpeg\"\n",
    "fig.write_image(file_name)\n",
    "\n",
    "# Load the image\n",
    "img = mpimg.imread(\"sample_image.jpeg\")\n",
    "\n",
    "img = cv2.cvtColor(img, cv2.COLOR_RGB2GRAY)\n",
    "# Change it to grayscale image\n",
    "processedImg = img > 48\n",
    "processedImg = processedImg.astype(np.uint8) * 255\n",
    "\n",
    "# print(processedImg.shape)\n",
    "\n"
   ]
  },
  {
   "cell_type": "code",
   "execution_count": 126,
   "metadata": {},
   "outputs": [
    {
     "data": {
      "text/plain": [
       "True"
      ]
     },
     "execution_count": 126,
     "metadata": {},
     "output_type": "execute_result"
    },
    {
     "data": {
      "image/png": "[encoded data removed]",
      "text/plain": [
       "<Figure size 640x480 with 1 Axes>"
      ]
     },
     "metadata": {},
     "output_type": "display_data"
    }
   ],
   "source": [
    "# Display the image\n",
    "plt.figure()\n",
    "plt.imshow(processedImg, cmap = \"gray\")\n",
    "\n",
    "cv2.imwrite(\"sample_image.jpeg\", processedImg)"
   ]
  },
  {
   "cell_type": "code",
   "execution_count": 221,
   "metadata": {},
   "outputs": [
    {
     "name": "stdout",
     "output_type": "stream",
     "text": [
      "(48, 40)\n"
     ]
    }
   ],
   "source": [
    "img = mpimg.imread(\"sample_image.jpeg\")\n",
    "print(img.shape)"
   ]
  },
  {
   "cell_type": "code",
   "execution_count": 278,
   "metadata": {},
   "outputs": [
    {
     "data": {
      "text/plain": [
       "(54, 72)"
      ]
     },
     "execution_count": 278,
     "metadata": {},
     "output_type": "execute_result"
    }
   ],
   "source": [
    "processedImg.shape"
   ]
  },
  {
   "cell_type": "code",
   "execution_count": 33,
   "metadata": {},
   "outputs": [
    {
     "name": "stdout",
     "output_type": "stream",
     "text": [
      "(26241, 54, 72)\n"
     ]
    }
   ],
   "source": [
    "# Test whether training_data.dat can read\n",
    "training_data = []\n",
    "training_data.append(np.memmap(\"image_data/dogeusdt/training_data.dat\", dtype = np.uint8, mode = 'r').reshape(\n",
    "                        (-1, 54, 72)))\n",
    "training_data = np.concatenate(training_data)\n",
    "print(training_data.shape)"
   ]
  },
  {
   "cell_type": "code",
   "execution_count": 46,
   "metadata": {},
   "outputs": [
    {
     "data": {
      "text/plain": [
       "(54, 72)"
      ]
     },
     "execution_count": 46,
     "metadata": {},
     "output_type": "execute_result"
    }
   ],
   "source": [
    "image = training_data[1]\n",
    "image.shape"
   ]
  },
  {
   "cell_type": "code",
   "execution_count": 47,
   "metadata": {},
   "outputs": [
    {
     "data": {
      "text/plain": [
       "<matplotlib.image.AxesImage at 0x13d909010>"
      ]
     },
     "execution_count": 47,
     "metadata": {},
     "output_type": "execute_result"
    },
    {
     "data": {
      "image/png": "[encoded data removed]",
      "text/plain": [
       "<Figure size 640x480 with 1 Axes>"
      ]
     },
     "metadata": {},
     "output_type": "display_data"
    }
   ],
   "source": [
    "plt.figure()\n",
    "plt.imshow(image, cmap = \"gray\")"
   ]
  }
 ],
 "metadata": {
  "kernelspec": {
   "display_name": "Python 3",
   "language": "python",
   "name": "python3"
  },
  "language_info": {
   "codemirror_mode": {
    "name": "ipython",
    "version": 3
   },
   "file_extension": ".py",
   "mimetype": "text/x-python",
   "name": "python",
   "nbconvert_exporter": "python",
   "pygments_lexer": "ipython3",
   "version": "3.12.4"
  },
  "orig_nbformat": 4,
  "vscode": {
   "interpreter": {
    "hash": "f1062708a37074d70712b695aadee582e0b0b9f95f45576b5521424137d05fec"
   }
  }
 },
 "nbformat": 4,
 "nbformat_minor": 2
}
