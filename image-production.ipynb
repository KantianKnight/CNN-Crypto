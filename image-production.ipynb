{
 "cells": [
  {
   "cell_type": "code",
   "execution_count": 14,
   "metadata": {},
   "outputs": [],
   "source": [
    "# Import all necessary libraries\n",
    "import numpy as np\n",
    "import pandas as pd\n",
    "import matplotlib.pyplot as plt\n",
    "import matplotlib.dates as mdates\n",
    "import mplfinance as mpf\n",
    "import plotly.graph_objects as go\n",
    "import pandas as pd\n",
    "import cv2\n",
    "import matplotlib.image as mpimg\n",
    "import os"
   ]
  },
  {
   "cell_type": "code",
   "execution_count": 15,
   "metadata": {},
   "outputs": [
    {
     "data": {
      "text/html": [
       "<div>\n",
       "<style scoped>\n",
       "    .dataframe tbody tr th:only-of-type {\n",
       "        vertical-align: middle;\n",
       "    }\n",
       "\n",
       "    .dataframe tbody tr th {\n",
       "        vertical-align: top;\n",
       "    }\n",
       "\n",
       "    .dataframe thead th {\n",
       "        text-align: right;\n",
       "    }\n",
       "</style>\n",
       "<table border=\"1\" class=\"dataframe\">\n",
       "  <thead>\n",
       "    <tr style=\"text-align: right;\">\n",
       "      <th></th>\n",
       "      <th>Open time</th>\n",
       "      <th>Open</th>\n",
       "      <th>High</th>\n",
       "      <th>Low</th>\n",
       "      <th>Close</th>\n",
       "      <th>Volume</th>\n",
       "      <th>Close time</th>\n",
       "      <th>Quote asset volume</th>\n",
       "      <th>Number of trades</th>\n",
       "      <th>Taker buy base asset volume</th>\n",
       "      <th>Taker buy quote asset volume</th>\n",
       "      <th>LogReturns</th>\n",
       "    </tr>\n",
       "  </thead>\n",
       "  <tbody>\n",
       "    <tr>\n",
       "      <th>0</th>\n",
       "      <td>1609459200000</td>\n",
       "      <td>0.18134</td>\n",
       "      <td>0.18146</td>\n",
       "      <td>0.17831</td>\n",
       "      <td>0.18051</td>\n",
       "      <td>19194919.1</td>\n",
       "      <td>1609462799999</td>\n",
       "      <td>3.447726e+06</td>\n",
       "      <td>5472</td>\n",
       "      <td>9753882.0</td>\n",
       "      <td>1.752001e+06</td>\n",
       "      <td>0.000000</td>\n",
       "    </tr>\n",
       "    <tr>\n",
       "      <th>1</th>\n",
       "      <td>1609462800000</td>\n",
       "      <td>0.18055</td>\n",
       "      <td>0.18469</td>\n",
       "      <td>0.18000</td>\n",
       "      <td>0.18358</td>\n",
       "      <td>28601648.4</td>\n",
       "      <td>1609466399999</td>\n",
       "      <td>5.222490e+06</td>\n",
       "      <td>11417</td>\n",
       "      <td>15629558.8</td>\n",
       "      <td>2.855128e+06</td>\n",
       "      <td>0.016864</td>\n",
       "    </tr>\n",
       "    <tr>\n",
       "      <th>2</th>\n",
       "      <td>1609466400000</td>\n",
       "      <td>0.18361</td>\n",
       "      <td>0.18473</td>\n",
       "      <td>0.18229</td>\n",
       "      <td>0.18368</td>\n",
       "      <td>20075571.1</td>\n",
       "      <td>1609469999999</td>\n",
       "      <td>3.692176e+06</td>\n",
       "      <td>6751</td>\n",
       "      <td>10958611.4</td>\n",
       "      <td>2.016056e+06</td>\n",
       "      <td>0.000545</td>\n",
       "    </tr>\n",
       "    <tr>\n",
       "      <th>3</th>\n",
       "      <td>1609470000000</td>\n",
       "      <td>0.18375</td>\n",
       "      <td>0.18458</td>\n",
       "      <td>0.18259</td>\n",
       "      <td>0.18292</td>\n",
       "      <td>15704497.1</td>\n",
       "      <td>1609473599999</td>\n",
       "      <td>2.886688e+06</td>\n",
       "      <td>5212</td>\n",
       "      <td>8379022.4</td>\n",
       "      <td>1.540624e+06</td>\n",
       "      <td>-0.004146</td>\n",
       "    </tr>\n",
       "    <tr>\n",
       "      <th>4</th>\n",
       "      <td>1609473600000</td>\n",
       "      <td>0.18299</td>\n",
       "      <td>0.18367</td>\n",
       "      <td>0.18105</td>\n",
       "      <td>0.18180</td>\n",
       "      <td>16338316.2</td>\n",
       "      <td>1609477199999</td>\n",
       "      <td>2.981119e+06</td>\n",
       "      <td>6630</td>\n",
       "      <td>7767811.4</td>\n",
       "      <td>1.417107e+06</td>\n",
       "      <td>-0.006142</td>\n",
       "    </tr>\n",
       "  </tbody>\n",
       "</table>\n",
       "</div>"
      ],
      "text/plain": [
       "       Open time     Open     High      Low    Close      Volume  \\\n",
       "0  1609459200000  0.18134  0.18146  0.17831  0.18051  19194919.1   \n",
       "1  1609462800000  0.18055  0.18469  0.18000  0.18358  28601648.4   \n",
       "2  1609466400000  0.18361  0.18473  0.18229  0.18368  20075571.1   \n",
       "3  1609470000000  0.18375  0.18458  0.18259  0.18292  15704497.1   \n",
       "4  1609473600000  0.18299  0.18367  0.18105  0.18180  16338316.2   \n",
       "\n",
       "      Close time  Quote asset volume  Number of trades  \\\n",
       "0  1609462799999        3.447726e+06              5472   \n",
       "1  1609466399999        5.222490e+06             11417   \n",
       "2  1609469999999        3.692176e+06              6751   \n",
       "3  1609473599999        2.886688e+06              5212   \n",
       "4  1609477199999        2.981119e+06              6630   \n",
       "\n",
       "   Taker buy base asset volume  Taker buy quote asset volume  LogReturns  \n",
       "0                    9753882.0                  1.752001e+06    0.000000  \n",
       "1                   15629558.8                  2.855128e+06    0.016864  \n",
       "2                   10958611.4                  2.016056e+06    0.000545  \n",
       "3                    8379022.4                  1.540624e+06   -0.004146  \n",
       "4                    7767811.4                  1.417107e+06   -0.006142  "
      ]
     },
     "execution_count": 15,
     "metadata": {},
     "output_type": "execute_result"
    }
   ],
   "source": [
    "# Read the data of the coin\n",
    "coin_csv = \"data/adausdt.csv\"\n",
    "coin = pd.read_csv(coin_csv)\n",
    "\n",
    "# Check the data\n",
    "coin.head(5)"
   ]
  },
  {
   "cell_type": "code",
   "execution_count": 7,
   "metadata": {},
   "outputs": [
    {
     "name": "stdout",
     "output_type": "stream",
     "text": [
      "(33561, 12)\n"
     ]
    }
   ],
   "source": [
    "# Check the shape of the coin dataframe\n",
    "print(coin.shape)"
   ]
  },
  {
   "cell_type": "code",
   "execution_count": 11,
   "metadata": {},
   "outputs": [
    {
     "name": "stdout",
     "output_type": "stream",
     "text": [
      "(26241, 12)\n",
      "(2184, 12)\n",
      "(5136, 12)\n"
     ]
    }
   ],
   "source": [
    "# 1704067200000 is Jan 1, 2024\n",
    "# 1711929600000 is Apr 1, 2024\n",
    "\n",
    "training_benchmark = 1704067200000\n",
    "validation_benchmark = 1711929600000\n",
    "\n",
    "training_data = coin[coin[\"Open time\"] < training_benchmark]\n",
    "validation_data = coin[(coin[\"Open time\"] < validation_benchmark) & (coin[\"Open time\"] >= training_benchmark)]\n",
    "testing_data = coin[coin[\"Open time\"] >= validation_benchmark]\n",
    "\n",
    "# Print the shape of each data\n",
    "print(training_data.shape)\n",
    "print(validation_data.shape)\n",
    "print(testing_data.shape)\n"
   ]
  },
  {
   "cell_type": "code",
   "execution_count": 13,
   "metadata": {},
   "outputs": [
    {
     "name": "stdout",
     "output_type": "stream",
     "text": [
      "(26241, 5)\n",
      "(2184, 5)\n",
      "(5136, 5)\n"
     ]
    }
   ],
   "source": [
    "# Delete unnecessary columns\n",
    "training_data_important = training_data.drop([\"Open time\", \"Close time\", \"Number of trades\", \"Taker buy base asset volume\", 'Taker buy quote asset volume', \"Quote asset volume\", \"Volume\"], axis = 1)\n",
    "validation_data_important = validation_data.drop([\"Open time\", \"Close time\", \"Number of trades\", \"Taker buy base asset volume\", 'Taker buy quote asset volume', \"Quote asset volume\", \"Volume\"], axis = 1)\n",
    "testing_data_important = testing_data.drop([\"Open time\", \"Close time\", \"Number of trades\", \"Taker buy base asset volume\", 'Taker buy quote asset volume', \"Quote asset volume\", \"Volume\"], axis = 1)\n",
    "\n",
    "# Check the shape\n",
    "print(training_data_important.shape)\n",
    "print(validation_data_important.shape)\n",
    "print(testing_data_important.shape)"
   ]
  },
  {
   "cell_type": "code",
   "execution_count": null,
   "metadata": {},
   "outputs": [],
   "source": [
    "# Start first with training_data_important\n",
    "\n",
    "# Check if there is already an image folder\n",
    "image_folder = \"image\" \n",
    "if not os.path.exists(image_folder):\n",
    "    os.makedirs(image_folder)\n",
    "\n",
    "# After that, create a folder for each coin inside image_folder\n",
    "coin_folder = coin_csv.split('/')[-1].replace('.csv', '')\n",
    "coin_folder_path = os.path.join(image_folder, coin_folder)\n",
    "\n",
    "if not os.path.exists(coin_folder_path):\n",
    "    os.makedirs(coin_folder_path)\n",
    "\n"
   ]
  }
 ],
 "metadata": {
  "kernelspec": {
   "display_name": "Python 3",
   "language": "python",
   "name": "python3"
  },
  "language_info": {
   "codemirror_mode": {
    "name": "ipython",
    "version": 3
   },
   "file_extension": ".py",
   "mimetype": "text/x-python",
   "name": "python",
   "nbconvert_exporter": "python",
   "pygments_lexer": "ipython3",
   "version": "3.12.4"
  },
  "orig_nbformat": 4,
  "vscode": {
   "interpreter": {
    "hash": "f1062708a37074d70712b695aadee582e0b0b9f95f45576b5521424137d05fec"
   }
  }
 },
 "nbformat": 4,
 "nbformat_minor": 2
}
